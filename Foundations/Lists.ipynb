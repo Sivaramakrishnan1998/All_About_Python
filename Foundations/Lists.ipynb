{
 "cells": [
  {
   "cell_type": "markdown",
   "metadata": {},
   "source": [
    "## Lists\n",
    "* Array type data structure, continuous memory allocation\n",
    "* Can able to access index wise\n",
    "* Can able to include different data types inside a list even lists\n",
    "* Lists are enclosed in square brackets[]\n",
    "* Lists are mutable means :- can able to change the list values after inserting into the list"
   ]
  },
  {
   "cell_type": "markdown",
   "metadata": {},
   "source": [
    "## List in action and its common most operations :)\n",
    "### 1. Creating a list "
   ]
  },
  {
   "cell_type": "code",
   "execution_count": 12,
   "metadata": {},
   "outputs": [
    {
     "name": "stdout",
     "output_type": "stream",
     "text": [
      "[[1, 2], ['3', '4']]\n",
      "[1, '0.56', 0.567]\n"
     ]
    }
   ],
   "source": [
    "empty_list = [1, \"0.56\", 0.567]\n",
    "int_list = [1,2,3,4]\n",
    "str_list = ['dhoni', 'sachin', 'steve smith' ]\n",
    "float_list = [3.4, 4.5, 6.744555]\n",
    "mix_list = [1, 7, 'dhoni', 3.69]\n",
    "list_of_list = [[1,2],[\"3\",\"4\"]]\n",
    "print(list_of_list)\n",
    "print (empty_list)"
   ]
  },
  {
   "cell_type": "markdown",
   "metadata": {},
   "source": [
    "### 2.Finding the length of the list"
   ]
  },
  {
   "cell_type": "code",
   "execution_count": 14,
   "metadata": {},
   "outputs": [
    {
     "name": "stdout",
     "output_type": "stream",
     "text": [
      "4\n"
     ]
    }
   ],
   "source": [
    "print(len(mix_list))"
   ]
  },
  {
   "cell_type": "markdown",
   "metadata": {},
   "source": [
    "### 3.Appending into the list\n",
    "* Difference between appending and inserting is , appending list operation occurs at end of the list, where as in inserting you can specify the index"
   ]
  },
  {
   "cell_type": "code",
   "execution_count": 15,
   "metadata": {},
   "outputs": [
    {
     "name": "stdout",
     "output_type": "stream",
     "text": [
      "[5]\n"
     ]
    }
   ],
   "source": [
    "list_a = []\n",
    "list_a.append(5)\n",
    "print(list_a)"
   ]
  },
  {
   "cell_type": "markdown",
   "metadata": {},
   "source": [
    "### 4.Inserting in a list"
   ]
  },
  {
   "cell_type": "code",
   "execution_count": 16,
   "metadata": {},
   "outputs": [
    {
     "name": "stdout",
     "output_type": "stream",
     "text": [
      "['maxplus', 5]\n"
     ]
    }
   ],
   "source": [
    "list_a.insert(0, \"maxplus\")\n",
    "print(list_a)"
   ]
  },
  {
   "cell_type": "code",
   "execution_count": null,
   "metadata": {},
   "outputs": [],
   "source": [
    "list_a.insert(6, \"exp\")\n",
    "print (list_a)"
   ]
  },
  {
   "cell_type": "markdown",
   "metadata": {},
   "source": [
    "### 5.Removing from a list"
   ]
  },
  {
   "cell_type": "code",
   "execution_count": 17,
   "metadata": {},
   "outputs": [
    {
     "name": "stdout",
     "output_type": "stream",
     "text": [
      "['one', 'two', 'four', 'three']\n"
     ]
    }
   ],
   "source": [
    "list_b  = [\"one\", \"two\", \"three\", \"four\",\"three\"]\n",
    "list_b.remove(\"three\") # removes first occurences of the list\n",
    "#ist_b.remove(\"two\")\n",
    "print(list_b)"
   ]
  },
  {
   "cell_type": "markdown",
   "metadata": {},
   "source": [
    "### 6.Appending and extending the list"
   ]
  },
  {
   "cell_type": "code",
   "execution_count": 18,
   "metadata": {
    "scrolled": true
   },
   "outputs": [
    {
     "name": "stdout",
     "output_type": "stream",
     "text": [
      "['csk', 'mi', 'srh', 'rr', 'kkr', ['rcb', 'kxip', 'dc']]\n"
     ]
    }
   ],
   "source": [
    "champions = ['csk', 'mi', 'srh', 'rr', 'kkr']\n",
    "teams = ['rcb', 'kxip', 'dc' ]\n",
    "\n",
    "champions.append(teams)\n",
    "print (champions)"
   ]
  },
  {
   "cell_type": "code",
   "execution_count": 21,
   "metadata": {},
   "outputs": [
    {
     "name": "stdout",
     "output_type": "stream",
     "text": [
      "['csk', 'mi', 'srh', 'rr', 'kkr', 'rcb', 'kxip', 'dc']\n",
      "[1, 2, 4, -1, 3, 54.5]\n"
     ]
    }
   ],
   "source": [
    "champions = ['csk', 'mi', 'srh', 'rr', 'kkr']\n",
    "teams = ['rcb', 'kxip', 'dc' ]\n",
    "\n",
    "champions.extend(teams)\n",
    "print (champions)\n",
    "\n",
    "\n",
    "# extend operation can also be done using + \n",
    "champions = [1, 2, 4]\n",
    "teams = [-1, 3, 54.5 ]\n",
    "print (champions+teams)\n"
   ]
  },
  {
   "cell_type": "markdown",
   "metadata": {},
   "source": [
    "### 6.Deleting elements from the list"
   ]
  },
  {
   "cell_type": "code",
   "execution_count": 22,
   "metadata": {},
   "outputs": [
    {
     "name": "stdout",
     "output_type": "stream",
     "text": [
      "['csk', 'srh', 'rr', 'kkr', 'rcb', 'kxip', 'dc']\n",
      "removed element is rr\n",
      "['csk', 'srh', 'kkr', 'rcb', 'kxip', 'dc']\n"
     ]
    }
   ],
   "source": [
    "champions = ['csk', 'mi', 'srh', 'rr', 'kkr', 'rcb', 'kxip', 'dc']\n",
    "champions.pop(1) # removes the element present in the index \n",
    "print (champions)\n",
    "# if you want to save the element which is getting deleted \n",
    "rem = champions.pop(2)\n",
    "print (f\"removed element is {rem}\")\n",
    "print(champions)\n"
   ]
  },
  {
   "cell_type": "markdown",
   "metadata": {},
   "source": [
    "### 7.Sorting the elements present inside the list "
   ]
  },
  {
   "cell_type": "code",
   "execution_count": 25,
   "metadata": {},
   "outputs": [
    {
     "name": "stdout",
     "output_type": "stream",
     "text": [
      "sorted(list) method ['csk', 'mi', 'srh', 'rr', 'kkr', 'rcb', 'kxip', 'dc']\n",
      "['csk', 'dc', 'kkr', 'kxip', 'mi', 'rcb', 'rr', 'srh']\n",
      "sorted(list) method ['srh', 'rr', 'rcb', 'mi', 'kxip', 'kkr', 'dc', 'csk']\n",
      "list.sort() method ['dc', 'kkr', 'kxip', 'mi', 'rcb', 'rr', 'srh']\n"
     ]
    }
   ],
   "source": [
    "\n",
    "### Method 1 sorted() => returns a new list\n",
    "champions = ['csk', 'mi', 'srh', 'rr', 'kkr', 'rcb', 'kxip', 'dc']\n",
    "\n",
    "# sort elements in ascending order\n",
    "bg = sorted(champions)\n",
    "print (\"sorted(list) method\",champions)\n",
    "print (bg)\n",
    "\n",
    "#sorting elements in descending order\n",
    "champions = sorted(champions, reverse=True)\n",
    "print (\"sorted(list) method\",champions)\n",
    "\n",
    "\n",
    "### Method 2 list.sort() => sorts the element and stores it in itself\n",
    "champions = ['mi', 'srh', 'rr', 'kkr', 'rcb', 'kxip', 'dc']\n",
    "champions.sort()\n",
    "print (\"list.sort() method\", champions)"
   ]
  },
  {
   "cell_type": "code",
   "execution_count": null,
   "metadata": {},
   "outputs": [],
   "source": []
  },
  {
   "cell_type": "markdown",
   "metadata": {},
   "source": [
    "### Keywords present in list (in)  (not)"
   ]
  },
  {
   "cell_type": "code",
   "execution_count": 26,
   "metadata": {},
   "outputs": [
    {
     "name": "stdout",
     "output_type": "stream",
     "text": [
      "csk inserted into the list\n",
      "['mi', 'srh', 'rr', 'kkr', 'rcb', 'kxip', 'dc', 'csk']\n"
     ]
    }
   ],
   "source": [
    "# import time\n",
    "# %time\n",
    "\n",
    "\n",
    "champions = ['mi', 'srh', 'rr', 'kkr', 'rcb', 'kxip', 'dc']\n",
    "\n",
    "team = 'csk'\n",
    "\n",
    "if team in champions:\n",
    "    print (\"string present in list\")\n",
    "else:\n",
    "    champions.append(team)\n",
    "    print (f\"{team} inserted into the list\")\n",
    "    print (champions)\n",
    "    \n",
    "\n",
    "    \n"
   ]
  },
  {
   "cell_type": "code",
   "execution_count": 27,
   "metadata": {},
   "outputs": [
    {
     "name": "stdout",
     "output_type": "stream",
     "text": [
      "csk inserted into the list\n",
      "['mi', 'srh', 'rr', 'kkr', 'rcb', 'kxip', 'dc', 'csk']\n"
     ]
    }
   ],
   "source": [
    "champions = ['mi', 'srh', 'rr', 'kkr', 'rcb', 'kxip', 'dc']\n",
    "\n",
    "team = 'csk'\n",
    "\n",
    "if team not in champions:\n",
    "    champions.append(team)\n",
    "    print (f\"{team} inserted into the list\")\n",
    "    print (champions)\n",
    "else:\n",
    "    print (\"string present in list\")\n",
    "    \n",
    "    \n"
   ]
  },
  {
   "cell_type": "markdown",
   "metadata": {},
   "source": [
    "### why in and not keywords are useful"
   ]
  },
  {
   "cell_type": "code",
   "execution_count": 28,
   "metadata": {},
   "outputs": [
    {
     "name": "stdout",
     "output_type": "stream",
     "text": [
      "Wall time: 0 ns\n",
      "found\n"
     ]
    }
   ],
   "source": [
    "import time\n",
    "champions = ['mi', 'srh', 'rr', 'kkr', 'rcb', 'kxip', 'csk', 'dc']\n",
    "\n",
    "team = 'csk'\n",
    "\n",
    "# for checking whether an value present in list\n",
    "%time\n",
    "for i in champions:\n",
    "    if i == team:\n",
    "        print ('found')\n",
    "        \n"
   ]
  },
  {
   "cell_type": "markdown",
   "metadata": {},
   "source": [
    "### List having multiple references"
   ]
  },
  {
   "cell_type": "code",
   "execution_count": 29,
   "metadata": {},
   "outputs": [
    {
     "name": "stdout",
     "output_type": "stream",
     "text": [
      "[1, 2, 3, 4, 5, 6] 2538496989512\n",
      "[1, 2, 3, 4, 5, 6] 2538496989512\n",
      "[1, 2, 3, 4, 5, 6] 2538496989512\n"
     ]
    }
   ],
   "source": [
    "list1 = [1,2,3,4,5]\n",
    "list2 = list1\n",
    "list2.append(6)\n",
    "list3 = list2\n",
    "\n",
    "print (list1, id(list1))\n",
    "print (list2, id(list2))\n",
    "print (list3, id(list3))"
   ]
  },
  {
   "cell_type": "code",
   "execution_count": 31,
   "metadata": {},
   "outputs": [
    {
     "name": "stdout",
     "output_type": "stream",
     "text": [
      "[1, 2, 3, 4, 5] 2538496976776\n",
      "[1, 2, 3, 4, 5, 6] 2538496975240\n",
      "[1, 2, 3, 4, 5, 6] 2538496975240\n"
     ]
    }
   ],
   "source": [
    "list1 = [1,2,3,4,5]\n",
    "list2 = list1.copy() # deep copy concept\n",
    "list2.append(6)\n",
    "list3 = list2 # shallow copy\n",
    "\n",
    "print (list1, id(list1))\n",
    "print (list2, id(list2))\n",
    "print (list3, id(list3))"
   ]
  },
  {
   "cell_type": "markdown",
   "metadata": {},
   "source": [
    "### Split string into list "
   ]
  },
  {
   "cell_type": "code",
   "execution_count": 32,
   "metadata": {},
   "outputs": [
    {
     "name": "stdout",
     "output_type": "stream",
     "text": [
      "['one', 'two', '.three']\n"
     ]
    }
   ],
   "source": [
    "str_ = 'one,two,.three'\n",
    "list_ = str_.split(\",\")\n",
    "print (list_)"
   ]
  },
  {
   "cell_type": "code",
   "execution_count": 34,
   "metadata": {},
   "outputs": [
    {
     "name": "stdout",
     "output_type": "stream",
     "text": [
      "['python', 'is', 'awesome']\n",
      "['python', 'is', 'awesome']\n"
     ]
    }
   ],
   "source": [
    "str_ = \"python is awesome\"\n",
    "list_ = str_.split(\" \")\n",
    "print (list_)\n",
    "list_ = str_.split()\n",
    "print (list_)"
   ]
  },
  {
   "cell_type": "markdown",
   "metadata": {},
   "source": [
    "### Indexing in a list"
   ]
  },
  {
   "cell_type": "code",
   "execution_count": 35,
   "metadata": {},
   "outputs": [
    {
     "name": "stdout",
     "output_type": "stream",
     "text": [
      "kkr\n",
      "dc\n",
      "csk\n",
      "kkr\n"
     ]
    }
   ],
   "source": [
    "champions = ['mi', 'srh', 'rr', 'kkr', 'rcb', 'kxip', 'csk', 'dc']\n",
    "\n",
    "print (champions[3])\n",
    "print (champions[-1])\n",
    "print (champions[-2])\n",
    "print (champions[-5])"
   ]
  },
  {
   "cell_type": "markdown",
   "metadata": {},
   "source": [
    "### slicing operations in a list"
   ]
  },
  {
   "cell_type": "code",
   "execution_count": 38,
   "metadata": {},
   "outputs": [
    {
     "name": "stdout",
     "output_type": "stream",
     "text": [
      "['mi', 'srh', 'rr', 'kkr', 'rcb', 'kxip', 'csk', 'dc']\n",
      "['mi', 'srh', 'rr', 'kkr']\n",
      "['rr', 'kkr', 'rcb', 'kxip']\n",
      "['mi', 'srh', 'rr', 'kkr']\n",
      "['kkr', 'rcb', 'kxip', 'csk', 'dc']\n",
      "['srh', 'rcb', 'dc']\n"
     ]
    }
   ],
   "source": [
    "champions = ['mi', 'srh', 'rr', 'kkr', 'rcb', 'kxip', 'csk', 'dc']\n",
    "\n",
    "print (champions[:])\n",
    "print (champions[0:4])\n",
    "print (champions[2:6])\n",
    "print (champions[:4])\n",
    "print (champions[3:])\n",
    "print (champions[1::3])\n",
    "\n"
   ]
  },
  {
   "cell_type": "markdown",
   "metadata": {},
   "source": [
    "### Count function to find the frequency of the element in list"
   ]
  },
  {
   "cell_type": "code",
   "execution_count": 39,
   "metadata": {},
   "outputs": [
    {
     "name": "stdout",
     "output_type": "stream",
     "text": [
      "1\n",
      "2\n",
      "0\n"
     ]
    }
   ],
   "source": [
    "champions = [1,2,3,1,2,'mi', 'srh', 'rr', 'kkr', 'rcb', 'kxip', 'csk', 'dc']\n",
    "\n",
    "print (champions.count('mi'))\n",
    "print (champions.count(2))\n",
    "print (champions.count(0))"
   ]
  },
  {
   "cell_type": "markdown",
   "metadata": {},
   "source": [
    "### looping through a list"
   ]
  },
  {
   "cell_type": "code",
   "execution_count": 43,
   "metadata": {},
   "outputs": [
    {
     "name": "stdout",
     "output_type": "stream",
     "text": [
      "mi\n",
      "srh\n",
      "rr\n",
      "kkr\n",
      "rcb\n",
      "kxip\n",
      "csk\n",
      "dc\n",
      "mi\n",
      "srh\n",
      "rr\n",
      "kkr\n",
      "rcb\n",
      "kxip\n",
      "csk\n",
      "dc\n"
     ]
    }
   ],
   "source": [
    "champions = ['mi', 'srh', 'rr', 'kkr', 'rcb', 'kxip', 'csk', 'dc']\n",
    "for ele in range(0, len(champions)):\n",
    "    print (champions[ele])\n",
    "for ele in champions:\n",
    "    print (ele)"
   ]
  },
  {
   "cell_type": "markdown",
   "metadata": {},
   "source": [
    "# List Comprehensions\n",
    "* ### why list comprehensions?\n",
    "     * faster than for loop\n",
    "     * writing one line for loop\n",
    "* ### syntax\n",
    "     * [(value) for loop]\n",
    "     "
   ]
  },
  {
   "cell_type": "code",
   "execution_count": 48,
   "metadata": {},
   "outputs": [
    {
     "name": "stdout",
     "output_type": "stream",
     "text": [
      "[4, 16, 36, 64]\n"
     ]
    }
   ],
   "source": [
    "# without list comprehensions\n",
    "\n",
    "# find square of a number list\n",
    "\n",
    "numbers = [1,2,3,4,5,6,7,8]\n",
    "sq_list = []\n",
    "for i in numbers:\n",
    "    if i % 2 == 0:\n",
    "        sq_list.append(i*i)\n",
    "\n",
    "print (sq_list)\n",
    "\n"
   ]
  },
  {
   "cell_type": "code",
   "execution_count": 46,
   "metadata": {},
   "outputs": [
    {
     "name": "stdout",
     "output_type": "stream",
     "text": [
      "[1, 2, 3, 4, 5, 6, 7, 8]\n"
     ]
    }
   ],
   "source": [
    "# with list comprehension\n",
    "\n",
    "sq_list = [i for i in numbers]\n",
    "print (sq_list)"
   ]
  },
  {
   "cell_type": "code",
   "execution_count": null,
   "metadata": {},
   "outputs": [],
   "source": [
    "# list comprehension with conditonal statements\n",
    "\n",
    "numbers = [-10,1,3,23,-2,-30]\n",
    "mul = [i**3 for i in numbers if i>0]\n",
    "print (mul)"
   ]
  },
  {
   "cell_type": "code",
   "execution_count": 50,
   "metadata": {},
   "outputs": [
    {
     "name": "stdout",
     "output_type": "stream",
     "text": [
      "[(-10, 100), (1, 1), (3, 9), (23, 529), (-2, 4), (-30, 900)]\n"
     ]
    }
   ],
   "source": [
    "# list comprehension which returns list(n, n**2)\n",
    "numbers = [-10,1,3,23,-2,-30]\n",
    "squares = [(i,i**2) for i in numbers]\n",
    "print (squares)\n"
   ]
  },
  {
   "cell_type": "code",
   "execution_count": null,
   "metadata": {},
   "outputs": [],
   "source": []
  },
  {
   "cell_type": "code",
   "execution_count": null,
   "metadata": {},
   "outputs": [],
   "source": []
  },
  {
   "cell_type": "code",
   "execution_count": null,
   "metadata": {},
   "outputs": [],
   "source": []
  },
  {
   "cell_type": "code",
   "execution_count": 63,
   "metadata": {},
   "outputs": [
    {
     "name": "stdout",
     "output_type": "stream",
     "text": [
      "0 [0, 0, 0, 0, 0]\n",
      "14\n",
      "0 [8, 10, 12, 14, 16]\n",
      "1 [8, 10, 12, 14, 16]\n",
      "2 [8, 10, 12, 14, 16]\n",
      "3 [8, 10, 12, 14, 16]\n",
      "4 [8, 10, 12, 14, 16]\n"
     ]
    }
   ],
   "source": [
    "rows, cols = 5,5\n",
    "\n",
    "d_list = [[0]*cols]*rows\n",
    "\n",
    "for i in range(len(d_list)):\n",
    "    print(i,d_list[i])\n",
    "    break\n",
    "    \n",
    "for i in range(0,rows):\n",
    "    for j in range(0,cols):\n",
    "        d_list[i][j] = (i + j) *2\n",
    "        \n",
    "print (d_list[2][3])      \n",
    "\n",
    "for i in range(len(d_list)):\n",
    "    print(i,d_list[i])"
   ]
  },
  {
   "cell_type": "code",
   "execution_count": null,
   "metadata": {},
   "outputs": [],
   "source": [
    "d_list = [[cols for cols in range(4)] for rows in range(3)]\n",
    "d_list"
   ]
  },
  {
   "cell_type": "code",
   "execution_count": 59,
   "metadata": {},
   "outputs": [],
   "source": [
    "for i in range(5):\n",
    "    for j in range(5):\n",
    "        d_list[i][j] = (i + j) *2"
   ]
  },
  {
   "cell_type": "markdown",
   "metadata": {},
   "source": [
    "## Sets"
   ]
  },
  {
   "cell_type": "code",
   "execution_count": null,
   "metadata": {},
   "outputs": [],
   "source": [
    "a = set()\n",
    "b = {}\n"
   ]
  },
  {
   "cell_type": "code",
   "execution_count": null,
   "metadata": {},
   "outputs": [],
   "source": [
    "b = {'where', 'are', 'you', 1, 0.03}\n",
    "b"
   ]
  },
  {
   "cell_type": "code",
   "execution_count": null,
   "metadata": {},
   "outputs": [],
   "source": [
    "b.add(\"bus\")"
   ]
  },
  {
   "cell_type": "code",
   "execution_count": null,
   "metadata": {},
   "outputs": [],
   "source": [
    "b"
   ]
  },
  {
   "cell_type": "code",
   "execution_count": null,
   "metadata": {},
   "outputs": [],
   "source": [
    "b.remove('bus')"
   ]
  },
  {
   "cell_type": "code",
   "execution_count": null,
   "metadata": {},
   "outputs": [],
   "source": [
    "b.pop()"
   ]
  },
  {
   "cell_type": "code",
   "execution_count": null,
   "metadata": {},
   "outputs": [],
   "source": [
    "b.clear()"
   ]
  },
  {
   "cell_type": "code",
   "execution_count": null,
   "metadata": {},
   "outputs": [],
   "source": [
    "a = {'a', 'b', 'c'}\n",
    "b = {'k', 'd', 'e'}\n",
    "\n",
    "print (a.union(b))\n",
    "print (a.intersection(b))\n",
    "print (a.isdisjoint(b))"
   ]
  },
  {
   "cell_type": "markdown",
   "metadata": {},
   "source": [
    "## Dictionary "
   ]
  },
  {
   "cell_type": "code",
   "execution_count": 2,
   "metadata": {},
   "outputs": [],
   "source": [
    "c = dict()\n",
    "c[\"d\"] = 5\n",
    "c[\"a\"] = 1\n",
    "c[\"b\"] = 2"
   ]
  },
  {
   "cell_type": "code",
   "execution_count": 3,
   "metadata": {},
   "outputs": [
    {
     "data": {
      "text/plain": [
       "dict_keys(['d', 'a', 'b'])"
      ]
     },
     "execution_count": 3,
     "metadata": {},
     "output_type": "execute_result"
    }
   ],
   "source": [
    "c.keys()"
   ]
  },
  {
   "cell_type": "code",
   "execution_count": 4,
   "metadata": {},
   "outputs": [
    {
     "data": {
      "text/plain": [
       "dict_values([5, 1, 2])"
      ]
     },
     "execution_count": 4,
     "metadata": {},
     "output_type": "execute_result"
    }
   ],
   "source": [
    "c.values()"
   ]
  },
  {
   "cell_type": "code",
   "execution_count": 5,
   "metadata": {},
   "outputs": [
    {
     "name": "stdout",
     "output_type": "stream",
     "text": [
      "d 5\n",
      "a 1\n",
      "b 2\n"
     ]
    }
   ],
   "source": [
    "for (k,v) in c.items():\n",
    "    print (k,v)"
   ]
  },
  {
   "cell_type": "code",
   "execution_count": 6,
   "metadata": {},
   "outputs": [
    {
     "name": "stdout",
     "output_type": "stream",
     "text": [
      "key is present in this dictionary\n"
     ]
    }
   ],
   "source": [
    "if \"a\" in c:\n",
    "    print (\"key is present in this dictionary\")"
   ]
  },
  {
   "cell_type": "code",
   "execution_count": 10,
   "metadata": {},
   "outputs": [
    {
     "data": {
      "text/plain": [
       "1"
      ]
     },
     "execution_count": 10,
     "metadata": {},
     "output_type": "execute_result"
    }
   ],
   "source": [
    "c.pop(\"a\")"
   ]
  },
  {
   "cell_type": "code",
   "execution_count": 11,
   "metadata": {},
   "outputs": [
    {
     "data": {
      "text/plain": [
       "{'d': 5, 'b': 2}"
      ]
     },
     "execution_count": 11,
     "metadata": {},
     "output_type": "execute_result"
    }
   ],
   "source": [
    "c"
   ]
  },
  {
   "cell_type": "code",
   "execution_count": null,
   "metadata": {},
   "outputs": [],
   "source": []
  }
 ],
 "metadata": {
  "kernelspec": {
   "display_name": "Python [conda env:root] *",
   "language": "python",
   "name": "conda-root-py"
  },
  "language_info": {
   "codemirror_mode": {
    "name": "ipython",
    "version": 3
   },
   "file_extension": ".py",
   "mimetype": "text/x-python",
   "name": "python",
   "nbconvert_exporter": "python",
   "pygments_lexer": "ipython3",
   "version": "3.7.4"
  }
 },
 "nbformat": 4,
 "nbformat_minor": 2
}
